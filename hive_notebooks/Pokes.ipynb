{
 "cells": [
  {
   "cell_type": "code",
   "execution_count": 13,
   "metadata": {},
   "outputs": [],
   "source": [
    "import sqlalchemy\n",
    "from sqlalchemy import create_engine\n",
    "from sqlalchemy import Table, Column, Integer, String, MetaData, ForeignKey\n",
    "from sqlalchemy import inspect\n",
    "import pandas as pd\n",
    "\n",
    "host = 'localhost'\n",
    "port = 8080\n",
    "database = 'default'\n",
    "\n",
    "engine = create_engine(f'presto://hive@{host}:{port}/hive/default')"
   ]
  },
  {
   "cell_type": "code",
   "execution_count": 14,
   "metadata": {
    "tags": []
   },
   "outputs": [
    {
     "output_type": "stream",
     "name": "stdout",
     "text": "Engine(presto://hive@localhost:8080/hive/default)\n"
    }
   ],
   "source": [
    "print(engine)"
   ]
  },
  {
   "cell_type": "code",
   "execution_count": 15,
   "metadata": {
    "tags": []
   },
   "outputs": [],
   "source": [
    "ddl = \"\"\"\n",
    "CREATE TABLE IF NOT EXISTS pokes (\n",
    "foo bigint,\n",
    "bar varchar\n",
    ")\n",
    "COMMENT 'test create table'\n",
    "\"\"\"\n",
    "with engine.connect() as conn:\n",
    "    rs = conn.execute(ddl)\n"
   ]
  },
  {
   "cell_type": "code",
   "execution_count": 16,
   "metadata": {},
   "outputs": [
    {
     "output_type": "execute_result",
     "data": {
      "text/plain": "Empty DataFrame\nColumns: [foo, bar]\nIndex: []",
      "text/html": "<div>\n<style scoped>\n    .dataframe tbody tr th:only-of-type {\n        vertical-align: middle;\n    }\n\n    .dataframe tbody tr th {\n        vertical-align: top;\n    }\n\n    .dataframe thead th {\n        text-align: right;\n    }\n</style>\n<table border=\"1\" class=\"dataframe\">\n  <thead>\n    <tr style=\"text-align: right;\">\n      <th></th>\n      <th>foo</th>\n      <th>bar</th>\n    </tr>\n  </thead>\n  <tbody>\n  </tbody>\n</table>\n</div>"
     },
     "metadata": {},
     "execution_count": 16
    }
   ],
   "source": [
    "df_read = pd.read_sql('SELECT * FROM pokes', con=engine)\n",
    "df_read"
   ]
  },
  {
   "cell_type": "code",
   "execution_count": 26,
   "metadata": {},
   "outputs": [
    {
     "output_type": "execute_result",
     "data": {
      "text/plain": "     foo      bar\n0    238  val_238\n1     86   val_86\n2    311  val_311\n3     27   val_27\n4    165  val_165\n..   ...      ...\n495  169  val_169\n496  403  val_403\n497  400  val_400\n498  200  val_200\n499   97   val_97\n\n[500 rows x 2 columns]",
      "text/html": "<div>\n<style scoped>\n    .dataframe tbody tr th:only-of-type {\n        vertical-align: middle;\n    }\n\n    .dataframe tbody tr th {\n        vertical-align: top;\n    }\n\n    .dataframe thead th {\n        text-align: right;\n    }\n</style>\n<table border=\"1\" class=\"dataframe\">\n  <thead>\n    <tr style=\"text-align: right;\">\n      <th></th>\n      <th>foo</th>\n      <th>bar</th>\n    </tr>\n  </thead>\n  <tbody>\n    <tr>\n      <th>0</th>\n      <td>238</td>\n      <td>val_238</td>\n    </tr>\n    <tr>\n      <th>1</th>\n      <td>86</td>\n      <td>val_86</td>\n    </tr>\n    <tr>\n      <th>2</th>\n      <td>311</td>\n      <td>val_311</td>\n    </tr>\n    <tr>\n      <th>3</th>\n      <td>27</td>\n      <td>val_27</td>\n    </tr>\n    <tr>\n      <th>4</th>\n      <td>165</td>\n      <td>val_165</td>\n    </tr>\n    <tr>\n      <th>...</th>\n      <td>...</td>\n      <td>...</td>\n    </tr>\n    <tr>\n      <th>495</th>\n      <td>169</td>\n      <td>val_169</td>\n    </tr>\n    <tr>\n      <th>496</th>\n      <td>403</td>\n      <td>val_403</td>\n    </tr>\n    <tr>\n      <th>497</th>\n      <td>400</td>\n      <td>val_400</td>\n    </tr>\n    <tr>\n      <th>498</th>\n      <td>200</td>\n      <td>val_200</td>\n    </tr>\n    <tr>\n      <th>499</th>\n      <td>97</td>\n      <td>val_97</td>\n    </tr>\n  </tbody>\n</table>\n<p>500 rows × 2 columns</p>\n</div>"
     },
     "metadata": {},
     "execution_count": 26
    }
   ],
   "source": [
    "df = pd.read_csv('kv1.txt', delimiter=\"\u0001\", names=['foo','bar'])\n",
    "df"
   ]
  },
  {
   "cell_type": "code",
   "execution_count": 28,
   "metadata": {},
   "outputs": [],
   "source": [
    "df.to_sql('pokes', index=False, con=engine, if_exists=\"append\", mode=\"multi\")"
   ]
  },
  {
   "cell_type": "code",
   "execution_count": 29,
   "metadata": {},
   "outputs": [
    {
     "output_type": "execute_result",
     "data": {
      "text/plain": "     foo      bar\n0    378  val_378\n1     37   val_37\n2    377  val_377\n3    338  val_338\n4    309  val_309\n..   ...      ...\n494  477  val_477\n495  136  val_136\n496  200  val_200\n497  265  val_265\n498  414  val_414\n\n[499 rows x 2 columns]",
      "text/html": "<div>\n<style scoped>\n    .dataframe tbody tr th:only-of-type {\n        vertical-align: middle;\n    }\n\n    .dataframe tbody tr th {\n        vertical-align: top;\n    }\n\n    .dataframe thead th {\n        text-align: right;\n    }\n</style>\n<table border=\"1\" class=\"dataframe\">\n  <thead>\n    <tr style=\"text-align: right;\">\n      <th></th>\n      <th>foo</th>\n      <th>bar</th>\n    </tr>\n  </thead>\n  <tbody>\n    <tr>\n      <th>0</th>\n      <td>378</td>\n      <td>val_378</td>\n    </tr>\n    <tr>\n      <th>1</th>\n      <td>37</td>\n      <td>val_37</td>\n    </tr>\n    <tr>\n      <th>2</th>\n      <td>377</td>\n      <td>val_377</td>\n    </tr>\n    <tr>\n      <th>3</th>\n      <td>338</td>\n      <td>val_338</td>\n    </tr>\n    <tr>\n      <th>4</th>\n      <td>309</td>\n      <td>val_309</td>\n    </tr>\n    <tr>\n      <th>...</th>\n      <td>...</td>\n      <td>...</td>\n    </tr>\n    <tr>\n      <th>494</th>\n      <td>477</td>\n      <td>val_477</td>\n    </tr>\n    <tr>\n      <th>495</th>\n      <td>136</td>\n      <td>val_136</td>\n    </tr>\n    <tr>\n      <th>496</th>\n      <td>200</td>\n      <td>val_200</td>\n    </tr>\n    <tr>\n      <th>497</th>\n      <td>265</td>\n      <td>val_265</td>\n    </tr>\n    <tr>\n      <th>498</th>\n      <td>414</td>\n      <td>val_414</td>\n    </tr>\n  </tbody>\n</table>\n<p>499 rows × 2 columns</p>\n</div>"
     },
     "metadata": {},
     "execution_count": 29
    }
   ],
   "source": [
    "df_read = pd.read_sql('SELECT * FROM pokes', con=engine)\n",
    "df_read"
   ]
  },
  {
   "cell_type": "code",
   "execution_count": null,
   "metadata": {},
   "outputs": [],
   "source": []
  }
 ],
 "metadata": {
  "kernelspec": {
   "display_name": "Python 3",
   "language": "python",
   "name": "python3"
  },
  "language_info": {
   "codemirror_mode": {
    "name": "ipython",
    "version": 3
   },
   "file_extension": ".py",
   "mimetype": "text/x-python",
   "name": "python",
   "nbconvert_exporter": "python",
   "pygments_lexer": "ipython3",
   "version": "3.8.5-final"
  }
 },
 "nbformat": 4,
 "nbformat_minor": 4
}